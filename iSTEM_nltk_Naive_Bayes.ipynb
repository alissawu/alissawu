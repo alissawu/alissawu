{
  "nbformat": 4,
  "nbformat_minor": 0,
  "metadata": {
    "colab": {
      "provenance": [],
      "include_colab_link": true
    },
    "kernelspec": {
      "display_name": "Python [default]",
      "language": "python",
      "name": "python3"
    }
  },
  "cells": [
    {
      "cell_type": "markdown",
      "metadata": {
        "id": "view-in-github",
        "colab_type": "text"
      },
      "source": [
        "<a href=\"https://colab.research.google.com/github/alissawu/alissawu/blob/main/iSTEM_nltk_Naive_Bayes.ipynb\" target=\"_parent\"><img src=\"https://colab.research.google.com/assets/colab-badge.svg\" alt=\"Open In Colab\"/></a>"
      ]
    },
    {
      "metadata": {
        "id": "3mFK9wUoebxg"
      },
      "cell_type": "markdown",
      "source": [
        "# Importing nltk & other libraries for preprocessing text"
      ]
    },
    {
      "cell_type": "code",
      "source": [
        "from dataclasses import dataclass\n",
        "import nltk\n",
        "nltk.download('omw-1.4')\n",
        "nltk.download('punkt')\n",
        "nltk.download('stopwords')\n",
        "import pandas as pd\n",
        "import numpy as np\n",
        "from nltk.tokenize import word_tokenize\n",
        "from nltk.stem import SnowballStemmer\n",
        "from nltk.corpus import stopwords\n",
        "from nltk.stem import WordNetLemmatizer\n",
        "nltk.download('wordnet')\n",
        "\n",
        "# Read in sentence data from CSV\n",
        "data = pd.read_csv(\"all-data 2.csv\")\n",
        "print(data)\n",
        "# Lowercase\n",
        "data[\"Sentence\"] = data[\"Sentence\"].str.lower()\n",
        "\n",
        "# Remove punctuation\n",
        "data[\"Sentence\"] = data[\"Sentence\"].str.replace(\"[^a-zA-Z]\", \" \")\n",
        "\n",
        "# Tokenize sentences\n",
        "data[\"Sentence\"] = data[\"Sentence\"].apply(word_tokenize)\n",
        "\n",
        "# Remove stopwords\n",
        "stop_words = set(stopwords.words('english'))\n",
        "data[\"Sentence\"] = data[\"Sentence\"].apply(lambda x: [item for item in x if item not in stop_words])\n",
        "\n",
        "# Stem words w/ Snowball stemmer\n",
        "stemmer = SnowballStemmer('english')\n",
        "data[\"Sentence\"] = data[\"Sentence\"].apply(lambda x: [stemmer.stem(y) for y in x])\n",
        "\n",
        "print(data)\n",
        "\n",
        "# TRAIN-TEST SPLIT\n",
        "from sklearn.model_selection import train_test_split\n",
        "X = data['Sentence']\n",
        "y = data['Sentiment']\n",
        "\n",
        "X_train, X_test, y_train, y_test = train_test_split(X, y, test_size=0.25, random_state=42)  # 0.8:0.2 split\n",
        "\n",
        "# VECTORIZATION\n",
        "from sklearn.feature_extraction.text import CountVectorizer\n",
        "\n",
        "# Concatenate the lists of words into a single string\n",
        "X_train = X_train.apply(lambda x: ' '.join(x))\n",
        "X_test = X_test.apply(lambda x: ' '.join(x))\n",
        "\n",
        "# Create the vocabulary\n",
        "vectorizer = CountVectorizer()\n",
        "X_train = vectorizer.fit_transform(X_train)\n",
        "X_test = vectorizer.transform(X_test)\n",
        "\n",
        "from sklearn.naive_bayes import MultinomialNB\n",
        "\n",
        "num_models = 5  # Number of Naive Bayes models to train\n",
        "predictions = []  # List to store predictions from all models\n",
        "\n",
        "alpha = 1  # Laplace smoothing factor, highest accuracy at a=1 from 1-10\n",
        "\n",
        "for i in range(num_models):\n",
        "    # Train the Naive Bayes classifier with Laplace smoothing\n",
        "    classifier = MultinomialNB(alpha=alpha)\n",
        "    classifier.fit(X_train, y_train)\n",
        "\n",
        "    # Predict the sentiment for the test data using the trained model\n",
        "    y_pred = classifier.predict(X_test)\n",
        "    predictions.append(y_pred)\n",
        "\n",
        "# Combine predictions using majority voting\n",
        "label_mapping = {'negative': 0, 'neutral': 1, 'positive': 2} #must be pos values\n",
        "converted_predictions = np.vstack([[label_mapping[p] for p in pred] for pred in predictions])\n",
        "combined_predictions = np.mean(converted_predictions, axis=0).astype(int)\n",
        "\n",
        "# Evaluate the performance of the combined model on the testing set\n",
        "from sklearn.metrics import accuracy_score, classification_report\n",
        "\n",
        "# Convert string labels to numeric labels in y_test\n",
        "y_test_numeric = np.array([label_mapping[label] for label in y_test])\n",
        "\n",
        "# Evaluate the performance of the combined model on the testing set\n",
        "print(\"Accuracy:\", accuracy_score(y_test_numeric, combined_predictions))\n",
        "print(\"Classification Report:\")\n",
        "print(classification_report(y_test_numeric, combined_predictions, target_names=label_mapping.keys()))\n",
        "\n"
      ],
      "metadata": {
        "id": "BVpgLC61TD3A"
      },
      "execution_count": null,
      "outputs": []
    }
  ]
}